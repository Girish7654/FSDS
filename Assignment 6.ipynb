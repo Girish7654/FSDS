{
 "cells": [
  {
   "cell_type": "markdown",
   "metadata": {},
   "source": [
    "1.What are escape characters, and how do you use them?\n",
    "\n",
    "Ans: Backslash charcater is called as the escape character and use a backslash followed by the character you want to insert.\n",
    "\n",
    "2.What do the escape characters n and t stand for?\n",
    "\n",
    "Ans: \"\\t\" stands for a tab, \"\\n\" stands for a newline,\n",
    "\n",
    "3.What is the way to include backslash characters in a string?\n",
    "\n",
    "Ans: You have to use two backslash \"\\\\hi\"\n",
    "\n",
    "4.The string \"Howl's Moving Castle\" is a correct value. Why isn't the single quote character in the word Howl's not escaped a problem?\n",
    "\n",
    "Ans: The single quote in Howl's is fine because you've used double quotes to mark the beginning and end of the string.\n",
    "\n",
    "5.How do you write a string of newlines if you don't want to use the n character?\n",
    "\n",
    "Ans: Multiline strings allow you to use newlines in strings without the \\n escape character.\n",
    "\n",
    "6.What are the values of the given expressions?\n",
    "\n",
    "Ans:\n",
    "\n",
    "'Hello, world!'[1]   ----->   'e'\n",
    "\n",
    "'Hello, world!'[0:5]   ----->   'Hello'\n",
    "\n",
    "'Hello, world!'[:5]   ----->   'Hello'\n",
    "\n",
    "'Hello, world!'[3:]   ----->   'lo world!\n",
    "\n",
    "\n",
    "7.What are the values of the following expressions?\n",
    "\n",
    "Ans: \n",
    "\n",
    "'Hello'.upper()   ----->   'HELLO'\n",
    "\n",
    "'Hello'.upper().isupper()   ----->   True\n",
    "\n",
    "'Hello'.upper().lower()   ----->   'hello'\n",
    "\n",
    "\n",
    "8.What are the values of the following expressions?\n",
    "\n",
    "Ans: \n",
    "\n",
    "'Remember, remember, the fifth of July.'.split()   ----->   ['Remember,', 'remember,', 'the', 'fifth', 'of', 'November.']\n",
    "\n",
    "'-'.join('There can only one.'.split())   ----->   'There-can-be-only-one.\n",
    "\n",
    "\n",
    "9.What are the methods for right-justifying, left-justifying, and centering a string?\n",
    "\n",
    "Ans: The rjust(), ljust(), and center()\n",
    "\n",
    "10.What is the best way to remove whitespace characters from the start or end?\n",
    "\n",
    "Ans: The lstrip() and rstrip() methods remove whitespace from the left and right ends of a string.\n",
    "\n"
   ]
  },
  {
   "cell_type": "code",
   "execution_count": null,
   "metadata": {},
   "outputs": [],
   "source": []
  }
 ],
 "metadata": {
  "kernelspec": {
   "display_name": "Python 3",
   "language": "python",
   "name": "python3"
  },
  "language_info": {
   "codemirror_mode": {
    "name": "ipython",
    "version": 3
   },
   "file_extension": ".py",
   "mimetype": "text/x-python",
   "name": "python",
   "nbconvert_exporter": "python",
   "pygments_lexer": "ipython3",
   "version": "3.7.4"
  }
 },
 "nbformat": 4,
 "nbformat_minor": 2
}
