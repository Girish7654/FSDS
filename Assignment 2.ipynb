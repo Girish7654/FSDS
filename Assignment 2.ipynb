{
 "cells": [
  {
   "cell_type": "markdown",
   "metadata": {},
   "source": [
    "1.What are the two values of the Boolean data type? How do you write them?\n",
    "\n",
    "Ans: True or it can be written as 1.\n",
    "     False or it can be written as 0."
   ]
  },
  {
   "cell_type": "markdown",
   "metadata": {},
   "source": [
    "2.What are the three different types of Boolean operators?\n",
    "\n",
    "Ans: 1.AND\n",
    "     2.OR\n",
    "     3.NOT"
   ]
  },
  {
   "cell_type": "code",
   "execution_count": null,
   "metadata": {},
   "outputs": [],
   "source": [
    "3.Make a list of each Boolean operator's truth tables (i.e. every possible combination of Boolean values for the operator and what it evaluate ).\n",
    "\n",
    "Ans: \n",
    "            AND:                  OR:                  NOT:\n",
    "                A B AB              A B AB                 A A'\n",
    "                0 0 0               0 0 0                  0 1  \n",
    "                0 1 0               0 1 1                  1 0\n",
    "                1 0 0               1 0 1\n",
    "                1 1 1               1 1 1 \n",
    "        "
   ]
  },
  {
   "cell_type": "markdown",
   "metadata": {},
   "source": [
    "4. What are the values of the following expressions?\n",
    "\n",
    "Ans: \n",
    "(5 > 4) and (3 == 5)  --->   0 (False)\n",
    "\n",
    "not (5 > 4)   --->   0 (False)\n",
    "\n",
    "(5 > 4) or (3 == 5)   --->   1 (True)\n",
    "\n",
    "not ((5 > 4) or (3 == 5))   --->   0 (False)\n",
    "\n",
    "(True and True) and (True == False)   --->   0 (False)\n",
    "\n",
    "(not False) or (not True)   --->   1 (True)\n",
    "\n",
    "\n",
    "5. What are the six comparison operators?\n",
    "\n",
    "Ans: equal to (==), \n",
    "     not equal to (!=), \n",
    "     greater than (>), \n",
    "     greater than or equal to (>=), \n",
    "     less than (<), \n",
    "     and less than or equal to (<=)\n",
    "\n",
    "6. How do you tell the difference between the equal to and assignment operators?Describe a condition and when you would use one.\n",
    "\n",
    "Ans: Equal to operator uses \"==\" sign and assignment operator uses \"=\" sign, in this way we can differentiate them.\n",
    "     eg: a=2,b=3    ---> Assignment operator\n",
    "         if a==b:   ---> Equal to operator\n",
    "             print(a) \n",
    "\n",
    "7. Identify the three blocks in this code:\n",
    "spam = 0\n",
    "if spam == 10:\n",
    "print('eggs')\n",
    "if spam > 5:\n",
    "print('bacon')\n",
    "else:\n",
    "print('ham')\n",
    "print('spam')\n",
    "print('spam')\n",
    "\n",
    "Ans: The 3 blocks are the 2 if blocks and the one else block\n",
    "\n",
    "9.If your programme is stuck in an endless loop, what keys you’ll press?\n",
    "\n",
    "Ans: Terminate key or stop key or CTRL+C \n",
    "\n",
    "\n",
    "10. How can you tell the difference between break and continue?\n",
    "\n",
    "Ans: Break: It completely comes or terminates out of the loop.\n",
    "     Continue: It skips that iteration and moves to the next iteration and continues. \n",
    "\n",
    "11. In a for loop, what is the difference between range(10), range(0, 10), and range(0, 10, 1)?\n",
    "\n",
    "Ans: range(10), range(0, 10) and range(0, 10, 1) are the same and in range(0, 10, 1) the 1 refers to jump by 1 step which also gives the same output.\n",
    "\n",
    "'''12. Write a short program that prints the numbers 1 to 10 using a for loop. \n",
    "Then write an equivalent program that prints the numbers 1 to 10 using a while loop.'''\n",
    "\n",
    "for i in range(1,11):\n",
    "    print(i)\n",
    "\n",
    "    \n",
    "a=1\n",
    "while a<=10:\n",
    "    print(a)\n",
    "    a+=1\n",
    "    \n",
    "13. If you had a function named bacon() inside a module named spam, how would you call it after importing spam?\n",
    "\n",
    "Ans: The function can be called with spam.bacon()"
   ]
  },
  {
   "cell_type": "code",
   "execution_count": 2,
   "metadata": {},
   "outputs": [
    {
     "name": "stdout",
     "output_type": "stream",
     "text": [
      "2\n",
      "Howdy\n"
     ]
    }
   ],
   "source": [
    "'''8. Write code that prints Hello if 1 is stored in spam, \n",
    "prints Howdy if 2 is stored in spam, and prints Greetings! if anything else is stored in spam.'''\n",
    "\n",
    "spam=int(input())\n",
    "if spam==1:\n",
    "    print(\"Hello\")\n",
    "elif spam==2:\n",
    "    print(\"Howdy\")\n",
    "else:\n",
    "    print(\"Greetings!\")\n",
    "\n"
   ]
  },
  {
   "cell_type": "code",
   "execution_count": null,
   "metadata": {},
   "outputs": [],
   "source": []
  }
 ],
 "metadata": {
  "kernelspec": {
   "display_name": "Python 3",
   "language": "python",
   "name": "python3"
  },
  "language_info": {
   "codemirror_mode": {
    "name": "ipython",
    "version": 3
   },
   "file_extension": ".py",
   "mimetype": "text/x-python",
   "name": "python",
   "nbconvert_exporter": "python",
   "pygments_lexer": "ipython3",
   "version": "3.7.4"
  }
 },
 "nbformat": 4,
 "nbformat_minor": 2
}
