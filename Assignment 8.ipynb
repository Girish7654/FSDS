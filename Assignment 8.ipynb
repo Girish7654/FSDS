{
 "cells": [
  {
   "cell_type": "markdown",
   "metadata": {},
   "source": [
    "1.Is the Python Standard Library included with PyInputPlus?\n",
    "\n",
    "Ans: Yes it is included\n",
    "\n",
    "2.Why is PyInputPlus commonly imported with import pyinputplus as pypi?\n",
    "\n",
    "Ans: You can import the module with import pyinputplus as pyip so that you can enter a shorter name when calling the module's functions.\n",
    "\n",
    "3.How do you distinguish between inputInt() and inputFloat()?\n",
    "\n",
    "Ans: inputInt() : Accepts an integer value.\n",
    "inputFloat() : Accepts a floating-point numeric value.\n",
    "\n",
    "4.Using PyInputPlus, how do you ensure that the user enters a whole number between 0 and 99?\n",
    "\n",
    "Ans: By using pyip.inputint(min=1, max=99)\n",
    "\n",
    "5.What is transferred to the keyword arguments allowRegexes and blockRegexes?\n",
    "\n",
    "Ans: We can set a list of regex strings to the allowRegexes parameter to the PyInputPlus functions. Certain inputs can be blocked by setting the blockRegexes parameter’s value as the regex pattern we want to invalidate.\n",
    "\n",
    "6.If a blank input is entered three times, what does inputStr(limit=3) do?\n",
    "\n",
    "Ans: inputStr() raises a TimeoutException exception. If the user answers incorrectly more than 3 times, it raises a RetryLimitException exception.\n",
    "\n",
    "7.If blank input is entered three times, what does inputStr(limit=3, default='hello') do?\n",
    "\n",
    "Ans: It returns the value N/A to the variable username"
   ]
  },
  {
   "cell_type": "code",
   "execution_count": null,
   "metadata": {},
   "outputs": [],
   "source": []
  }
 ],
 "metadata": {
  "kernelspec": {
   "display_name": "Python 3",
   "language": "python",
   "name": "python3"
  },
  "language_info": {
   "codemirror_mode": {
    "name": "ipython",
    "version": 3
   },
   "file_extension": ".py",
   "mimetype": "text/x-python",
   "name": "python",
   "nbconvert_exporter": "python",
   "pygments_lexer": "ipython3",
   "version": "3.7.4"
  }
 },
 "nbformat": 4,
 "nbformat_minor": 2
}
