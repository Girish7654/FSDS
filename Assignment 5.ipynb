{
 "cells": [
  {
   "cell_type": "markdown",
   "metadata": {},
   "source": [
    "1.What does an empty dictionary's code look like?\n",
    "\n",
    "Ans: This is an empty dictionary {}.\n",
    "\n",
    "2.What is the value of a dictionary value with the key 'foo' and the value 42?\n",
    "\n",
    "Ans: {\"foo\":42}\n",
    "\n",
    "3.What is the most significant distinction between a dictionary and a list?\n",
    "\n",
    "Ans: The items stored in a dictionary are unordered, while the items in a list are ordered.\n",
    "\n",
    "4.What happens if you try to access spam['foo'] if spam is {'bar': 100}?\n",
    "\n",
    "Ans: You will get a KeyError.\n",
    "\n",
    "\n",
    "5.If a dictionary is stored in spam, what is the difference between the expressions 'cat' in spam and 'cat' in spam.keys()?\n",
    "\n",
    "Ans: Both is same. Both checks wheather cat is in spam.\n",
    "\n",
    "6.If a dictionary is stored in spam, what is the difference between the expressions 'cat' in spam and 'cat' in spam.values()?\n",
    "\n",
    "Ans: cat in spam checks wheather cat is a key in spam whereas cat in spam.values() checks wheather there is any value in name cat.\n",
    "\n",
    "7.What is a shortcut for the following code?\n",
    "if 'color' not in spam:\n",
    "spam['color'] = 'black'\n",
    "\n",
    "Ans: spam.setdefault('color', 'black')\n",
    "\n",
    "\n",
    "\n",
    "8.How do you \"pretty print\" dictionary values using which module and function?\n",
    "\n",
    "Ans: pprint.pprint()\n",
    "\n",
    "\n"
   ]
  }
 ],
 "metadata": {
  "kernelspec": {
   "display_name": "Python 3",
   "language": "python",
   "name": "python3"
  },
  "language_info": {
   "codemirror_mode": {
    "name": "ipython",
    "version": 3
   },
   "file_extension": ".py",
   "mimetype": "text/x-python",
   "name": "python",
   "nbconvert_exporter": "python",
   "pygments_lexer": "ipython3",
   "version": "3.7.4"
  }
 },
 "nbformat": 4,
 "nbformat_minor": 2
}
